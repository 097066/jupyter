{
  "nbformat": 4,
  "nbformat_minor": 0,
  "metadata": {
    "colab": {
      "provenance": [],
      "include_colab_link": true
    },
    "kernelspec": {
      "name": "python3",
      "display_name": "Python 3"
    },
    "language_info": {
      "name": "python"
    }
  },
  "cells": [
    {
      "cell_type": "markdown",
      "metadata": {
        "id": "view-in-github",
        "colab_type": "text"
      },
      "source": [
        "<a href=\"https://colab.research.google.com/github/097066/jupyter/blob/main/ITS_PYTHON%E8%80%83%E9%A1%8C%E8%A7%A3%E6%9E%90.ipynb\" target=\"_parent\"><img src=\"https://colab.research.google.com/assets/colab-badge.svg\" alt=\"Open In Colab\"/></a>"
      ]
    },
    {
      "cell_type": "markdown",
      "source": [
        "## 考題解析"
      ],
      "metadata": {
        "id": "dtcM89zlkwNT"
      }
    },
    {
      "cell_type": "code",
      "source": [
        "# P.01 字串與整數的不同\n",
        "# 使用資料類型和運算子執行操作(40-45%)\n",
        "\n",
        "rooms = {1: 'Foyer', 2: 'Conference Room'}\n",
        "room = input('Enter the room number: ')\n",
        "if not room in rooms:\n",
        "\tprint('Room does not exist.')\n",
        "else:\n",
        "\tprint(\"The room name is \" + rooms[room])\n"
      ],
      "metadata": {
        "id": "B4J8MEFvnFSe",
        "colab": {
          "base_uri": "https://localhost:8080/"
        },
        "outputId": "1d1d0ac4-4e7f-445c-80c4-d87685d70420"
      },
      "execution_count": null,
      "outputs": [
        {
          "output_type": "stream",
          "name": "stdout",
          "text": [
            "Enter the room number: 1\n",
            "Room does not exist.\n"
          ]
        }
      ]
    },
    {
      "cell_type": "code",
      "source": [
        "# P.02 執行疑難排解和錯誤處理(10-15%)\n",
        "# https://docs.python.org/zh-tw/3/library/exceptions.html#exception-hierarchy\n",
        "\n",
        "def divide(x, y):\n",
        "    try:\n",
        "        result = x / y\n",
        "    except ZeroDivisionError:\n",
        "        print(\"division by zero!\")\n",
        "    else:\n",
        "        print(\"result is\", result)\n",
        "    finally:\n",
        "        print(\"executing finally clause\")\n",
        "\n",
        "divide(2, 1)\n",
        "#divide(2, 0)\n",
        "#divide(\"2\", \"1\")"
      ],
      "metadata": {
        "id": "_lrTwk9sra2n",
        "colab": {
          "base_uri": "https://localhost:8080/"
        },
        "outputId": "4a38ff57-578f-4653-da2b-78de9330df4c"
      },
      "execution_count": null,
      "outputs": [
        {
          "output_type": "stream",
          "name": "stdout",
          "text": [
            "result is 2.0\n",
            "executing finally clause\n"
          ]
        }
      ]
    },
    {
      "cell_type": "code",
      "source": [
        "# P.03  日期格式\n",
        "# 使用模組和工具執行操作(5-10%)\n",
        "# https://docs.python.org/zh-tw/3/library/datetime.html\n",
        "# https://docs.python.org/zh-tw/3/library/datetime.html#strftime-and-strptime-behavior\n",
        "\n",
        "import datetime\n",
        "d = datetime.datetime(2017, 4, 7)\n",
        "print('{:%B-%d-%y}'.format(d))\n"
      ],
      "metadata": {
        "id": "YANJL3FRqnzj",
        "colab": {
          "base_uri": "https://localhost:8080/"
        },
        "outputId": "ac209654-f574-4eaa-e608-977123e40071"
      },
      "execution_count": null,
      "outputs": [
        {
          "output_type": "stream",
          "name": "stdout",
          "text": [
            "April-07-17\n"
          ]
        }
      ]
    },
    {
      "cell_type": "code",
      "source": [
        "# P.04  檔案的讀取\n",
        "# 文件和結構代碼(10-15%)\n",
        "\n",
        "inventory = open(r\"/content/drive/MyDrive/Colab Notebooks/inventory.txt\", 'r')\n",
        "eof = False\n",
        "while eof == False:\n",
        "    line = inventory.readline()\n",
        "    if line != '':\n",
        "        if line != '\\n':\n",
        "            print(line,end='')\n",
        "    else:\n",
        "        print (\"\\nEnd of file\")\n",
        "        eof = True\n",
        "        inventory.close()"
      ],
      "metadata": {
        "id": "1f_t7tsIsWSY",
        "colab": {
          "base_uri": "https://localhost:8080/"
        },
        "outputId": "0db112c9-ae1f-45c9-f808-c2cfbf094df4"
      },
      "execution_count": null,
      "outputs": [
        {
          "output_type": "stream",
          "name": "stdout",
          "text": [
            "10, 200, 5\n",
            "20, 100, 1\n",
            "End of file\n"
          ]
        }
      ]
    },
    {
      "cell_type": "code",
      "source": [
        "# P.05\n",
        "# 使用資料類型和運算子執行操作(40-45%)\n",
        "\n",
        "age = 12\n",
        "minor = False\n",
        "name = \"David\"\n",
        "weight = 64.5\n",
        "zip = \"545\"\n"
      ],
      "metadata": {
        "id": "0gVTGzRGk4Jm"
      },
      "execution_count": null,
      "outputs": []
    },
    {
      "cell_type": "code",
      "source": [
        "# P.06 日期資料\n",
        "# 使用模組和工具執行操作(5-10%)\n",
        "\n",
        "import datetime\n",
        "dailySpecials=(\"Spaghetti\",\"Macaroni & Cheese\", \"Meatloaf\", \"Fried Chicken\")\n",
        "weekendSpecials=(\"Lobster\",\"Prime Rib\",\"Parmesan-Crusted Cod\")\n",
        "now=datetime.datetime.now()\n",
        "today=now.strftime(\"%A\")\n",
        "print(\"My Healthy Eats Delivery\")\n",
        "if today == \"Friday\" or today ==\"Saturday\" or today ==\"Sunday\":\n",
        "    print(\"The weekend specials include:\")\n",
        "    for item in weekendSpecials:\n",
        "        print(item)\n",
        "else:\n",
        "    print(\"The weekday spcials include: \")\n",
        "    for item in dailySpecials:\n",
        "        print(item)\n",
        "daysLeft=6-now.weekday()\n",
        "print(f\"Pricing specials change in {daysLeft} days\")\n"
      ],
      "metadata": {
        "id": "LUIUOwv2lls0"
      },
      "execution_count": null,
      "outputs": []
    },
    {
      "cell_type": "code",
      "source": [
        "# P.07 多重選擇的寫法\n",
        "# Letter Grade Converter\n",
        "# 控制帶有決策和迴圈的流程(15-20%)\n",
        "grade = int(input(\"Enter a numeric grade\"))\n",
        "if grade >= 90 :\n",
        "\tletter_grade='A'\n",
        "elif grade >= 80 :\n",
        "\tletter_grade='B'\n",
        "elif grade >= 70 :\n",
        "\tletter_grade='C'\n",
        "elif grade >= 65 :\n",
        "\tletter_grade='D'\n",
        "else :\n",
        "\tletter_grade='F'\n",
        "print(\"Your letter grade is \", letter_grade)\n"
      ],
      "metadata": {
        "id": "5hPaJoAOmssD"
      },
      "execution_count": null,
      "outputs": []
    },
    {
      "cell_type": "code",
      "source": [
        "# P.08  無條件捨去小數\n",
        "# 使用資料類型和運算子執行操作(40-45%)\n",
        "# https://docs.python.org/zh-tw/3/reference/expressions.html#operator-precedence"
      ],
      "metadata": {
        "id": "xcScWoRxnA1S"
      },
      "execution_count": null,
      "outputs": []
    },
    {
      "cell_type": "code",
      "source": [
        "# P.09  條件式\n",
        "# 使用資料類型和運算子執行操作(40-45%)\n",
        "#DVD Rental Calculator\n",
        "ontime = input(\"Was the video returned before 8 PM? Y or N\").lower()\n",
        "days_rented = int(input(\"How many days was the video rented?\"))\n",
        "weekday = input(\"What day was the video rented?\").capitalize()\n",
        "cost_per_day = 1.59\n",
        "\n",
        "if ontime == 'n':\n",
        "    days_rented +=1\n",
        "\n",
        "\n",
        "if weekday == \"Sunday\":\n",
        "    total = (days_rented * cost_per_day) * 0.7\n",
        "elif weekday == \"Thursday\":\n",
        "    total = (days_rented * cost_per_day) * 0.5\n",
        "else:\n",
        "    total = days_rented * cost_per_day\n",
        "\n",
        "\n",
        "print(\"Cost of the DVD rental is: $\", total)\n"
      ],
      "metadata": {
        "id": "PdolXnaj2h8C",
        "colab": {
          "base_uri": "https://localhost:8080/"
        },
        "outputId": "5d0d6b62-6bdc-4809-9f1d-354bd6e7db97"
      },
      "execution_count": null,
      "outputs": [
        {
          "output_type": "stream",
          "name": "stdout",
          "text": [
            "Was the video returned before 8 PM? Y or Nn\n",
            "How many days was the video rented?5\n",
            "What day was the video rented?Thursday\n",
            "Cost of the DVD rental is: $ 4.7700000000000005\n"
          ]
        }
      ]
    },
    {
      "cell_type": "code",
      "source": [
        "# P.10\n",
        "# 執行輸入和輸出操作(10-15%)\n",
        "print(\"What is your name?\")\n",
        "name = input()\n",
        "print(name)\n"
      ],
      "metadata": {
        "id": "t5CoDAJDpYwy",
        "colab": {
          "base_uri": "https://localhost:8080/"
        },
        "outputId": "c377a9e6-8e60-47ae-8966-165b34dfa57d"
      },
      "execution_count": null,
      "outputs": [
        {
          "output_type": "stream",
          "name": "stdout",
          "text": [
            "What is your name?\n",
            "suyu\n",
            "suyu\n"
          ]
        }
      ]
    },
    {
      "cell_type": "code",
      "source": [
        "# P.11\n",
        "# 執行輸入和輸出操作(10-15%)\n",
        "total = int(input(\"請輸入總數？\"))"
      ],
      "metadata": {
        "id": "mDkEJJKYqs7u"
      },
      "execution_count": null,
      "outputs": []
    },
    {
      "cell_type": "code",
      "source": [
        "# P.12 函式的設計與呼叫\n",
        "# 控制帶有決策和迴圈的流程(15-20%)\n",
        "# ●接受清單和字串做為參數。\n",
        "# ●在清單中搜尋字串。\n",
        "# ●如果字串存在清單中,則列印一則訊息,指出找到字串,然後停止逐一查看清單。\n",
        "# ●如果字串不在清單中,則列印一則訊息,指出找不到字串。\n",
        "\n",
        "def search(items, term):\n",
        "    for i in range(len(items)):\n",
        "        if items[i] == term:\n",
        "            print(\"{0} was found in the list.\".format(term))\n",
        "            break\n",
        "    else:\n",
        "        print(\"{0} was not found in the list.\".format(term))\n",
        "\n",
        "search(['A','B','C','D'],'B')"
      ],
      "metadata": {
        "id": "se7D0j5iqBSs",
        "colab": {
          "base_uri": "https://localhost:8080/"
        },
        "outputId": "39f8f9a8-7262-4a25-8232-de94ca180a9a"
      },
      "execution_count": null,
      "outputs": [
        {
          "output_type": "stream",
          "name": "stdout",
          "text": [
            "B was found in the list.\n"
          ]
        }
      ]
    },
    {
      "cell_type": "code",
      "source": [
        "# P.13 資料輸入與字串格式化\n",
        "# 執行輸入和輸出操作(10-15%)\n",
        "# https://docs.python.org/zh-tw/3/library/string.html#format-specification-mini-language\n",
        "\n",
        "sum1 = count = rating = 0\n",
        "average = 0.0\n",
        "while True:\n",
        "    rating = float(input(\"Enter next rating (1-5, -1 for done)\"))\n",
        "    if rating == -1:\n",
        "        break\n",
        "    sum1 += rating\n",
        "    count += 1\n",
        "average = float(sum1 / count)\n",
        "print(      \"The average star rating for the new coffee is : \"  +   format(average,'.2f')     )\n",
        "\n"
      ],
      "metadata": {
        "id": "qnWP12OusbpH",
        "colab": {
          "base_uri": "https://localhost:8080/"
        },
        "outputId": "fbfaec67-e3f7-450f-a733-382ae4d9b9a3"
      },
      "execution_count": null,
      "outputs": [
        {
          "output_type": "stream",
          "name": "stdout",
          "text": [
            "Enter next rating (1-5, -1 for done)5\n",
            "Enter next rating (1-5, -1 for done)4\n",
            "Enter next rating (1-5, -1 for done)-1\n",
            "The average star rating for the new coffee is:4.50\n"
          ]
        }
      ]
    },
    {
      "cell_type": "code",
      "source": [
        "import keyword\n",
        "keyword.kwlist"
      ],
      "metadata": {
        "id": "sSSM0KtQUzAE"
      },
      "execution_count": null,
      "outputs": []
    },
    {
      "cell_type": "code",
      "source": [
        "# P.14  雙重選擇與多重選擇\n",
        "# 控制帶有決策和迴圈的流程(15-20%)\n",
        "grade = 95\n",
        "if 0 <= grade <= 100 :\n",
        "\n",
        "    if grade >= 90 :\n",
        "        print(\"Your grade is A.\")\n",
        "    elif grade >= 80 :\n",
        "        print(\"Your grade is B.\")\n",
        "    elif grade < 80 and  grade > 69 :\n",
        "        print(\"Your grade is C.\")\n",
        "    else :\n",
        "        print(\"Your grade is failing.\")\n",
        "\n",
        "else :\n",
        "    print(\"Invalid grade entered.\")"
      ],
      "metadata": {
        "id": "qTvZt_cQxBVc",
        "colab": {
          "base_uri": "https://localhost:8080/"
        },
        "outputId": "b937c6f0-0a96-4847-ab7e-0d3ad6adb0e3"
      },
      "execution_count": null,
      "outputs": [
        {
          "output_type": "stream",
          "name": "stdout",
          "text": [
            "Your grade is A.\n"
          ]
        }
      ]
    },
    {
      "cell_type": "code",
      "source": [
        "# P.15 取餘數\n",
        "# 使用資料類型和運算子執行操作(40-45%)\n",
        "from random import randint\n",
        "num = randint(1, 100)\n",
        "if num % 2 == 0 :\n",
        "    print(\"%d 是偶數\" % num)\n",
        "else :\n",
        "    print(\"%d 是奇數\" % num)\n"
      ],
      "metadata": {
        "id": "SrF_Y5_q1TRI",
        "colab": {
          "base_uri": "https://localhost:8080/"
        },
        "outputId": "e11140ce-7448-46a9-a631-82873c099dd6"
      },
      "execution_count": null,
      "outputs": [
        {
          "output_type": "stream",
          "name": "stdout",
          "text": [
            "78 是偶數\n"
          ]
        }
      ]
    },
    {
      "cell_type": "code",
      "source": [
        "# P.16  如何去開啟一個檔案來 讀取  資料\n",
        "# 使用模組和工具執行操作(5-10%)\n",
        "import os\n",
        "\n",
        "def get_first_line(filename, mode) :\n",
        "\n",
        "    if os.path.isfile(filename) :  # Return True if path is an existing regular file.\n",
        "\n",
        "        with open(filename, mode) as file :\n",
        "\n",
        "            return file.readline()\n",
        "    else:\n",
        "\n",
        "        return None\n",
        "\n",
        "get_first_line(r'/content/drive/MyDrive/Colab Notebooks/inventory.txt', 'r')"
      ],
      "metadata": {
        "id": "wciwZwRR2eGP",
        "colab": {
          "base_uri": "https://localhost:8080/",
          "height": 36
        },
        "outputId": "6b4bb485-585a-483b-e48b-a9c254e6e8e6"
      },
      "execution_count": null,
      "outputs": [
        {
          "output_type": "execute_result",
          "data": {
            "text/plain": [
              "'\\n'"
            ],
            "application/vnd.google.colaboratory.intrinsic+json": {
              "type": "string"
            }
          },
          "metadata": {},
          "execution_count": 36
        }
      ]
    },
    {
      "cell_type": "code",
      "source": [
        "# P.17 串列的運算\n",
        "# 使用資料類型和運算子執行操作(40-45%)\n",
        "list_1 = [1,2]\n",
        "list_2 = [3,4]\n",
        "list_3 = list_1 + list_2\n",
        "list_4 = list_3 * 3\n",
        "print(list_4)"
      ],
      "metadata": {
        "id": "xeVlnQ6QcHOk",
        "colab": {
          "base_uri": "https://localhost:8080/"
        },
        "outputId": "71aa8dc6-7e64-4f1f-85a3-36a34827803e"
      },
      "execution_count": null,
      "outputs": [
        {
          "output_type": "stream",
          "name": "stdout",
          "text": [
            "[1, 2, 3, 4, 1, 2, 3, 4, 1, 2, 3, 4]\n"
          ]
        }
      ]
    },
    {
      "cell_type": "code",
      "source": [
        "# P.18  隨機變數如何產生\n",
        "# 使用模組和工具執行操作(5-10%)\n",
        "# https://docs.python.org/zh-tw/3/library/random.html\n",
        "\n",
        "import random\n",
        "\n",
        "print(  random.randrange(5, 12, 2)   )\n",
        "print(  random.randint(5, 11)    )\n"
      ],
      "metadata": {
        "id": "oOcVwZmggjIs",
        "colab": {
          "base_uri": "https://localhost:8080/"
        },
        "outputId": "c4d9ec38-fc37-42d0-cddd-5a80890c4b78"
      },
      "execution_count": null,
      "outputs": [
        {
          "output_type": "stream",
          "name": "stdout",
          "text": [
            "7\n",
            "9\n"
          ]
        }
      ]
    },
    {
      "cell_type": "code",
      "source": [
        "# P.19 雙迴圈的使用\n",
        "# Displays time tables 2 - 12\n",
        "# 使用資料類型和運算子執行操作(40-45%)\n",
        "def times_tables():\n",
        "    for row in range(2,13) :\n",
        "        for col in range(2,13) :\n",
        "            #print('{:4d}'.format(row * col), end = \" \")\n",
        "            print(f'{row*col:4d}', end = \" \")\n",
        "        print()\n",
        "\n",
        "# main\n",
        "times_tables()\n"
      ],
      "metadata": {
        "id": "T_eBAoMy5nfD",
        "colab": {
          "base_uri": "https://localhost:8080/"
        },
        "outputId": "db0870ef-605c-486c-af79-87e4e02dc17a"
      },
      "execution_count": null,
      "outputs": [
        {
          "output_type": "stream",
          "name": "stdout",
          "text": [
            "   4    6    8   10   12   14   16   18   20   22   24 \n",
            "   6    9   12   15   18   21   24   27   30   33   36 \n",
            "   8   12   16   20   24   28   32   36   40   44   48 \n",
            "  10   15   20   25   30   35   40   45   50   55   60 \n",
            "  12   18   24   30   36   42   48   54   60   66   72 \n",
            "  14   21   28   35   42   49   56   63   70   77   84 \n",
            "  16   24   32   40   48   56   64   72   80   88   96 \n",
            "  18   27   36   45   54   63   72   81   90   99  108 \n",
            "  20   30   40   50   60   70   80   90  100  110  120 \n",
            "  22   33   44   55   66   77   88   99  110  121  132 \n",
            "  24   36   48   60   72   84   96  108  120  132  144 \n"
          ]
        }
      ]
    },
    {
      "cell_type": "code",
      "source": [
        "# P.20  串列的切片\n",
        "# 使用資料類型和運算子執行操作(40-45%)\n",
        "list1 = [5,8,3,9,1,3,0,3,6,4,8,7]\n",
        "list1[0:7]"
      ],
      "metadata": {
        "id": "KrBDJi4AjEmH",
        "colab": {
          "base_uri": "https://localhost:8080/"
        },
        "outputId": "c92a6795-4f3a-4860-d943-2aeeb8840f6a"
      },
      "execution_count": null,
      "outputs": [
        {
          "output_type": "execute_result",
          "data": {
            "text/plain": [
              "[5, 8, 3, 9, 1, 3, 0]"
            ]
          },
          "metadata": {},
          "execution_count": 72
        }
      ]
    },
    {
      "cell_type": "code",
      "source": [
        "# P.21\n",
        "def print_table(file):\n",
        "    data = open(file,'r')\n",
        "    for record in data:\n",
        "        # print(record)\n",
        "        fields = record.strip().split(\",\")\n",
        "        print('=========0=========0=========0')\n",
        "        print(\"{0:10}{1:5.1f}{2:7.2f}\".format(fields[0], eval(fields[1]), eval(fields[2])))\n",
        "\n",
        "print_table(r'/content/drive/MyDrive/Colab Notebooks/水果的價格.txt')"
      ],
      "metadata": {
        "id": "uNXirIEw8N5s"
      },
      "execution_count": null,
      "outputs": []
    },
    {
      "cell_type": "code",
      "source": [
        "# P.22\n",
        "\n",
        "# A. open(\"local_data\", \"w+\")"
      ],
      "metadata": {
        "id": "z0708cmus_2g"
      },
      "execution_count": null,
      "outputs": []
    },
    {
      "cell_type": "code",
      "source": [
        "# P.23  數學模組的數學函式使用\n",
        "# https://docs.python.org/zh-tw/3/library/math.html\n",
        "\n",
        "import math\n",
        "\n",
        "x = -2.876\n",
        "\n",
        "print( math.floor(x) )\n",
        "print( math.fabs(x) )\n"
      ],
      "metadata": {
        "id": "AUAMv5YroCHi"
      },
      "execution_count": null,
      "outputs": []
    },
    {
      "cell_type": "code",
      "source": [
        "# P.24 雙迴圈的使用技巧\n",
        "\n",
        "result_str=\"\"\n",
        "for row in range(1,6):\n",
        "    for column in range(1,5):\n",
        "        if (row==1 or row==3 or row==5):\n",
        "            result_str=result_str+\"*\"\n",
        "        elif column==1:\n",
        "            result_str=result_str+\"*\"\n",
        "    result_str=result_str+\"\\n\"\n",
        "print(result_str)"
      ],
      "metadata": {
        "id": "eS6lLq-3vaT5"
      },
      "execution_count": null,
      "outputs": []
    },
    {
      "cell_type": "code",
      "source": [
        "# P.25 assert方法 英文字要了解即可看出答案"
      ],
      "metadata": {
        "id": "lRtCVYWZrmX-"
      },
      "execution_count": null,
      "outputs": []
    },
    {
      "cell_type": "code",
      "source": [
        "# P.26 多重選擇與條件式\n",
        "\n",
        "def safe_divide(numerator=None, denominator=None):\n",
        "    if numerator is None or denominator is None :\n",
        "        print(\"A required value is missing.\")\n",
        "    elif denominator == 0 :\n",
        "        print(\"The denominator is zero.\")\n",
        "    else :\n",
        "        return numerator / denominator\n",
        "\n",
        "safe_divide(10,5)"
      ],
      "metadata": {
        "id": "gvx-USMbxnqx"
      },
      "execution_count": null,
      "outputs": []
    },
    {
      "cell_type": "code",
      "source": [
        "# P.27 巢狀式選擇的寫法\n",
        "\n",
        "def safe_root(a, b):\n",
        "    '''\n",
        "    函式說明\n",
        "    專門處理數值開根號\n",
        "\n",
        "    '''\n",
        "    if a >= 0 :\n",
        "        answer = a ** (1 / b)\n",
        "    else :\n",
        "        if a % 2 == 0 :\n",
        "            answer = \"Result is an imaginary number\"\n",
        "        else :\n",
        "            answer = -(-a) ** (1 / b)\n",
        "\n",
        "    return answer\n",
        "\n",
        "safe_root(27, 3)\n",
        "print(safe_root.__doc__)"
      ],
      "metadata": {
        "id": "6YA9BLys0Hia"
      },
      "execution_count": null,
      "outputs": []
    },
    {
      "cell_type": "code",
      "source": [
        "# P.28  算數運算子的優先順序\n",
        "# https://docs.python.org/zh-tw/3/reference/expressions.html#operator-precedence\n",
        "\n",
        "(5 * (1 + 2) ** 2 - 3 + 4 / 2)"
      ],
      "metadata": {
        "id": "aZ7b-kHKrEeL"
      },
      "execution_count": null,
      "outputs": []
    },
    {
      "cell_type": "code",
      "source": [
        "# P.29\n",
        "\n",
        "numList = [1, 2, 3, 4, 5]\n",
        "alphaList = [\"a\", \"b\", \"c\", \"d\", \"e\"]\n",
        "print(numList is alphaList)\n",
        "print(numList == alphaList)\n",
        "numList = alphaList\n",
        "print(numList is alphaList)\n",
        "print(numList == alphaList)\n"
      ],
      "metadata": {
        "id": "AS5T7vKQ3Prx"
      },
      "execution_count": null,
      "outputs": []
    },
    {
      "cell_type": "code",
      "source": [
        "# P.30  註解的寫法\n",
        "\n",
        "def get_balance():\n",
        "\t# Returns the current balance of the bank account\n",
        "\treturn balance\n"
      ],
      "metadata": {
        "id": "pWvNWUIX6RVK"
      },
      "execution_count": null,
      "outputs": []
    },
    {
      "cell_type": "code",
      "source": [
        "# P.31 條件式迴圈\n",
        "\n",
        "numbers = [0, 1, 2, 3, 4, 5, 6, 7, 8, 9]\n",
        "index = 0\n",
        "\n",
        "while(index < 10) :\n",
        "    print(numbers[index])\n",
        "    if numbers[index] == 6 :\n",
        "        break\n",
        "    else :\n",
        "        index += 1\n"
      ],
      "metadata": {
        "id": "tQCXKeyk6jV5"
      },
      "execution_count": null,
      "outputs": []
    },
    {
      "cell_type": "code",
      "source": [
        "# P.32  字串的串接與累加運算子 +=\n",
        "\n",
        "a = 'Config1'\n",
        "print(a)\n",
        "b = a\n",
        "a += 'Config2'\n",
        "print(a)\n",
        "print(b)\n"
      ],
      "metadata": {
        "id": "1FdSychYsnFk"
      },
      "execution_count": null,
      "outputs": []
    },
    {
      "cell_type": "code",
      "source": [
        "# P.33 算數運算子\n",
        "\n",
        "a = 21\n",
        "b = 5\n",
        "print(a / b)\n",
        "print(a // b)\n",
        "print(a % b)\n"
      ],
      "metadata": {
        "id": "Mgze7TnSuaC0"
      },
      "execution_count": null,
      "outputs": []
    },
    {
      "cell_type": "code",
      "source": [
        "# P.34\n",
        "\n",
        "a = \"\"\"aaaaaaaa\"\"\"\n",
        "a"
      ],
      "metadata": {
        "id": "4zqdiCdJ8lhy"
      },
      "execution_count": null,
      "outputs": []
    },
    {
      "cell_type": "code",
      "source": [
        "# P.35 算數運算子的優先順序\n",
        "a= eval(input(\"Enter a number for the question:\"))\n",
        "b=(-a)**2\n",
        "b"
      ],
      "metadata": {
        "id": "E01bF7u4d1Uv"
      },
      "execution_count": null,
      "outputs": []
    },
    {
      "cell_type": "code",
      "source": [
        "# P.36 try 的語法看你會不會"
      ],
      "metadata": {
        "id": "pnKhOMCJr4TU"
      },
      "execution_count": null,
      "outputs": []
    },
    {
      "cell_type": "code",
      "source": [
        "# P.37\n",
        "\n",
        "def roomAssignment(student, year):\n",
        "\t\"\"\"Assign rooms to students\"\"\"\n",
        "\tif year == 1:\n",
        "\t\tprint(f\"\\n{student.title()}, please report to room 115\")\n",
        "\telif year == 2:\n",
        "\t\tprint(f\"\\n{student.title()}, please report to room 210\")\n",
        "\telif year == 3:\n",
        "\t\tprint(f\"\\n{student.title()}, please report to room 320\")\n",
        "\telif year == 4:\n",
        "\t\tprint(f\"\\n{student.title()}, please report to room 405\")\n",
        "\telif year == 5:\n",
        "\t\tprint(f\"\\n{student.title()}, please report to room 515\")\n",
        "\telse:\n",
        "\t\tprint(f\"\\n{student.title()}, please report to room 625\")\n",
        "\n",
        "\n",
        "name = input(\"What is your name?\")\n",
        "grade = 0\n",
        "while grade not in (1,2,3,4,5,6):\n",
        "\tgrade = int(input(\"What grade are you in (1-6)?\"))\n",
        "roomAssignment(name,year=grade)\n",
        "\n",
        "\n",
        "#roomAssignment(\"Sherlock Sassafrass\",4)"
      ],
      "metadata": {
        "id": "RRIYZR0a_iv6"
      },
      "execution_count": null,
      "outputs": []
    },
    {
      "cell_type": "code",
      "source": [
        "# P.38\n",
        "\n",
        "def petStore(category, species, breed = \"none\"):\n",
        "    \"\"\"Display information about a pet.\"\"\"\n",
        "    print(f\"\\nYou have selected an animal from the {category} category.\")\n",
        "    if breed == \"none\":\n",
        "        print(f\"The {category} you selected is a {species}\")\n",
        "    else:\n",
        "        print(f\"The {category} you selected is a {species} {breed}\")\n",
        "    print(f\"\\nThe {category} would make a great pet!\")\n",
        "\n",
        "category = input(\"What animal category are you interested in?\")\n",
        "species = input(\"What species are they from (canine, feline, Scarlet Macaw, Blue and Gold Macaw?\")\n",
        "\n",
        "if category == \"dog\" or category ==\"cat\":\n",
        "    breed = input(\"What breed are you interested in?\")\n",
        "    petStore(category, species, breed)\n",
        "else:\n",
        "    petStore(category, species)\n",
        "\n",
        "petStore(breed=\"Maltese\",species=\"Canine\", category=\"dog\")\n",
        "petStore(\"bird\",species=\"Scarlet Macaw\")"
      ],
      "metadata": {
        "id": "kvlEvNgK_kbX"
      },
      "execution_count": null,
      "outputs": []
    },
    {
      "cell_type": "code",
      "source": [
        "# P.39 資料型別的認識\n",
        "print( type(+1E10)  )\n",
        "print( type(5.0)    )\n",
        "print( type(\"True\") )\n",
        "print( type(True)  )\n"
      ],
      "metadata": {
        "id": "qo5tCqykd38g"
      },
      "execution_count": null,
      "outputs": []
    },
    {
      "cell_type": "code",
      "source": [
        "# P.40\n",
        "\n",
        "def calc_power(a, b):\n",
        "    return a**b\n",
        "base = eval(input(\"Enter the number for the base:\"))\n",
        "exponent = eval(input(\"Enter the number for the exponent:\"))\n",
        "result = calc_power(base, exponent)\n",
        "print(\"The result is \" + str(result))"
      ],
      "metadata": {
        "id": "SX_FG14eyH2B"
      },
      "execution_count": null,
      "outputs": []
    },
    {
      "cell_type": "code",
      "source": [
        "# P.41\n",
        "def increment_score(score, bonus, points) :\n",
        "    if bonus == True :\n",
        "        points = points * 2\n",
        "    score = score + points\n",
        "    return score\n",
        "\n",
        "points = 5\n",
        "score = 10\n",
        "new_score = increment_score(score, True,points)\n",
        "points"
      ],
      "metadata": {
        "id": "g8bjFRFA0t03"
      },
      "execution_count": null,
      "outputs": []
    },
    {
      "cell_type": "code",
      "source": [
        "# P.42 比較運算子 in , not in\n",
        "slist = ['a', 'b', 'c', 'd', 'e', 'f']\n",
        "print('f' in slist)\n"
      ],
      "metadata": {
        "id": "iv0hZ6TYeDiW"
      },
      "execution_count": null,
      "outputs": []
    },
    {
      "cell_type": "code",
      "source": [
        "# P.43\n",
        "\n",
        "#employee_number =\"\"\n",
        "employee_number =\"123\"\n",
        "\n",
        "parts=\"\"\n",
        "\n",
        "while employee_number !=\"\" :\n",
        "#while employee_number !=\"123\" :\n",
        "    valid = False\n",
        "    #valid = True\n",
        "    employee_number = input(\"Enter employee number (ddd-dd-dddd): \")\n",
        "    parts = employee_number.split('-')\n",
        "    if len(parts) == 3:\n",
        "        if len(parts[0]) == 3 and len(parts[1]) == 2 and len(parts[2]) == 4:\n",
        "            if parts[0].isdigit() and parts[1].isdigit() and parts[2].isdigit():\n",
        "                #valid= False\n",
        "                valid = True\n",
        "    print(valid)"
      ],
      "metadata": {
        "id": "esI176HG3yUM"
      },
      "execution_count": null,
      "outputs": []
    },
    {
      "cell_type": "code",
      "source": [
        "# P.44\n",
        "\n",
        "productIdList = [0, 1, 2, 3, 4, 5, 6, 7, 8, 9]\n",
        "index = 0\n",
        "\n",
        "while(index < 10):\n",
        "    print(productIdList[index])\n",
        "    if productIdList[index] == 6:\n",
        "        break\n",
        "    else:\n",
        "        index +=1\n",
        "\n"
      ],
      "metadata": {
        "id": "woR9H4Bl6b27"
      },
      "execution_count": null,
      "outputs": []
    },
    {
      "cell_type": "code",
      "source": [
        "# P.45 字串格式化\n",
        "\n",
        "item = input (\"Enter the item name: \")\n",
        "sales = input (\"Enter the quantity: \")\n",
        "print( '\"' + item + '\",'+sales)\n",
        "print( '\"{0}\",{1}'.format(item, sales)                        )"
      ],
      "metadata": {
        "id": "uzBYaw0eeJre"
      },
      "execution_count": null,
      "outputs": []
    },
    {
      "cell_type": "code",
      "source": [
        "# P.46\n",
        "product = 2\n",
        "n = 5\n",
        "while (n != 0):\n",
        "    product *= n\n",
        "    print(product)\n",
        "    n -= 1\n",
        "    if n == 3 : break"
      ],
      "metadata": {
        "id": "E4N1FFKp9QLX"
      },
      "execution_count": null,
      "outputs": []
    },
    {
      "cell_type": "code",
      "source": [
        "# P.47\n",
        "\n",
        "def grosspay(hours=40,rate=25,pieces=0,piecerate=0,salary=0):\n",
        "\n",
        "    overtime=0\n",
        "\n",
        "    if pieces > 0:\n",
        "        return pieces * piecerate\n",
        "\n",
        "    if salary > 0:\n",
        "        pass\n",
        "\n",
        "    if hours > 40:\n",
        "        overtime = (hours-40) * (1.5 * rate)\n",
        "        return overtime + (40 * rate)\n",
        "    else:\n",
        "        return hours * rate\n",
        "\n",
        "grosspay(pieces=500, piecerate=4)"
      ],
      "metadata": {
        "id": "n2X5Gu5Y-Ztl"
      },
      "execution_count": null,
      "outputs": []
    },
    {
      "cell_type": "code",
      "source": [
        "# P.48\n",
        "num = int(input(\"Enter a number with 1 or 2 digits: \"))\n",
        "\n",
        "digits = \"0\"\n",
        "\n",
        "if num > -10 and num < 10 :\n",
        "    digits = \"1\"\n",
        "elif num > -100 and num < 100 :\n",
        "    digits = \"2\"\n",
        "else :\n",
        "    digits = \">2\"\n",
        "\n",
        "print(digits + \" digits.\")\n"
      ],
      "metadata": {
        "id": "3ZjgHi7cAX_I"
      },
      "execution_count": null,
      "outputs": []
    },
    {
      "cell_type": "code",
      "source": [
        "# P.49\n",
        "\n",
        "from random import randint\n",
        "\n",
        "target = randint(1, 10)\n",
        "chance = 1\n",
        "print(\"Guess an integer from 1 to 10. You will have 3 chances. \")\n",
        "\n",
        "while chance <= 3:\n",
        "\n",
        "    guess = int(input(\"Guess an integer: \"))\n",
        "\n",
        "    if guess > target:\n",
        "        print(\"Guess is too high\")\n",
        "    elif guess < target:\n",
        "        print(\"Guess is too low\")\n",
        "    else:\n",
        "        print(\"Guess is just right!\")\n",
        "        break\n",
        "\n",
        "    chance += 1"
      ],
      "metadata": {
        "id": "0kXtJagOBsVz"
      },
      "execution_count": null,
      "outputs": []
    },
    {
      "cell_type": "code",
      "source": [
        "# P.50 考變數的資料型態\n",
        "age = input(\"Enter your age: \")\n",
        "year = input(\"Enter the four-digit year: \")\n",
        "born = eval(year) - eval(age)\n",
        "message = \"You were born in \" + str(born)\n",
        "print(message)\n"
      ],
      "metadata": {
        "id": "qkj1EzTKeSZJ"
      },
      "execution_count": null,
      "outputs": []
    },
    {
      "cell_type": "code",
      "source": [
        "# P.51 算數運算子\n",
        "\n",
        "value1 = 24\n",
        "value2 = 7\n",
        "value3 = 17.9\n",
        "\n",
        "answer = (value1 % value2 *100) // 2.0 ** 3.0 - value2\n",
        "print(answer)\n"
      ],
      "metadata": {
        "id": "bbMRDybSeXVe"
      },
      "execution_count": null,
      "outputs": []
    },
    {
      "cell_type": "code",
      "source": [
        "# P.52\n",
        "\n",
        "def read_file(file):\n",
        "    line = None\n",
        "    if os.path.isfile(file):  #  os 模組尚未載入\n",
        "        data = open(file, 'r')\n",
        "        for line in data:\n",
        "            print(line)\n",
        "\n",
        "read_file('file')"
      ],
      "metadata": {
        "id": "iAyY_UvoFU88",
        "colab": {
          "base_uri": "https://localhost:8080/",
          "height": 323
        },
        "outputId": "d9054263-83e3-4f38-b368-98019c878c9d"
      },
      "execution_count": null,
      "outputs": [
        {
          "output_type": "error",
          "ename": "NameError",
          "evalue": "ignored",
          "traceback": [
            "\u001b[0;31m---------------------------------------------------------------------------\u001b[0m",
            "\u001b[0;31mNameError\u001b[0m                                 Traceback (most recent call last)",
            "\u001b[0;32m<ipython-input-9-061a6004978e>\u001b[0m in \u001b[0;36m<cell line: 10>\u001b[0;34m()\u001b[0m\n\u001b[1;32m      8\u001b[0m             \u001b[0mprint\u001b[0m\u001b[0;34m(\u001b[0m\u001b[0mline\u001b[0m\u001b[0;34m)\u001b[0m\u001b[0;34m\u001b[0m\u001b[0;34m\u001b[0m\u001b[0m\n\u001b[1;32m      9\u001b[0m \u001b[0;34m\u001b[0m\u001b[0m\n\u001b[0;32m---> 10\u001b[0;31m \u001b[0mread_file\u001b[0m\u001b[0;34m(\u001b[0m\u001b[0;34m'file'\u001b[0m\u001b[0;34m)\u001b[0m\u001b[0;34m\u001b[0m\u001b[0;34m\u001b[0m\u001b[0m\n\u001b[0m",
            "\u001b[0;32m<ipython-input-9-061a6004978e>\u001b[0m in \u001b[0;36mread_file\u001b[0;34m(file)\u001b[0m\n\u001b[1;32m      3\u001b[0m \u001b[0;32mdef\u001b[0m \u001b[0mread_file\u001b[0m\u001b[0;34m(\u001b[0m\u001b[0mfile\u001b[0m\u001b[0;34m)\u001b[0m\u001b[0;34m:\u001b[0m\u001b[0;34m\u001b[0m\u001b[0;34m\u001b[0m\u001b[0m\n\u001b[1;32m      4\u001b[0m     \u001b[0mline\u001b[0m \u001b[0;34m=\u001b[0m \u001b[0;32mNone\u001b[0m\u001b[0;34m\u001b[0m\u001b[0;34m\u001b[0m\u001b[0m\n\u001b[0;32m----> 5\u001b[0;31m     \u001b[0;32mif\u001b[0m \u001b[0mos\u001b[0m\u001b[0;34m.\u001b[0m\u001b[0mpath\u001b[0m\u001b[0;34m.\u001b[0m\u001b[0misfile\u001b[0m\u001b[0;34m(\u001b[0m\u001b[0mfile\u001b[0m\u001b[0;34m)\u001b[0m\u001b[0;34m:\u001b[0m\u001b[0;34m\u001b[0m\u001b[0;34m\u001b[0m\u001b[0m\n\u001b[0m\u001b[1;32m      6\u001b[0m         \u001b[0mdata\u001b[0m \u001b[0;34m=\u001b[0m \u001b[0mopen\u001b[0m\u001b[0;34m(\u001b[0m\u001b[0mfile\u001b[0m\u001b[0;34m,\u001b[0m \u001b[0;34m'r'\u001b[0m\u001b[0;34m)\u001b[0m\u001b[0;34m\u001b[0m\u001b[0;34m\u001b[0m\u001b[0m\n\u001b[1;32m      7\u001b[0m         \u001b[0;32mfor\u001b[0m \u001b[0mline\u001b[0m \u001b[0;32min\u001b[0m \u001b[0mdata\u001b[0m\u001b[0;34m:\u001b[0m\u001b[0;34m\u001b[0m\u001b[0;34m\u001b[0m\u001b[0m\n",
            "\u001b[0;31mNameError\u001b[0m: name 'os' is not defined"
          ]
        }
      ]
    },
    {
      "cell_type": "code",
      "source": [
        "# P.53\n",
        "name = input(\"Enter your name: \")\n",
        "\n",
        "if name.lower() == name:\n",
        "    print(name, \"is all lower case.\")\n",
        "elif name.upper() == name:\n",
        "    print(name, \"is all upper case.\")\n",
        "else:\n",
        "    print(name, \"is mixed case.\")"
      ],
      "metadata": {
        "id": "xGMjhi5XDgBy"
      },
      "execution_count": null,
      "outputs": []
    },
    {
      "cell_type": "code",
      "source": [
        "# P.54 字串切片\n",
        "\n",
        "alph = \"abcdefghijklmnopqrstuvwxyz\"\n",
        "alph[3:15]\n",
        "alph[3:15:3]\n",
        "alph[15:3:-3]\n",
        "print( alph[::-3] )\n"
      ],
      "metadata": {
        "id": "a5s0bNX4eeHF"
      },
      "execution_count": null,
      "outputs": []
    },
    {
      "cell_type": "code",
      "source": [
        "# P.55\n",
        "\n",
        "def admission_fee(age, school) :\n",
        "\n",
        "    rate = 0\n",
        "\n",
        "    if age >= 5 and school == True :\n",
        "\n",
        "        rate = 10\n",
        "\n",
        "    elif age >=5 and school == False :\n",
        "\n",
        "        if age <= 17 :\n",
        "\n",
        "            rate = 20\n",
        "\n",
        "        else :\n",
        "\n",
        "            rate = 50\n",
        "\n",
        "    return rate\n",
        "\n",
        "print( admission_fee(25, False) )"
      ],
      "metadata": {
        "id": "EaOQBPOwFhid"
      },
      "execution_count": null,
      "outputs": []
    },
    {
      "cell_type": "code",
      "source": [
        "# P.56  固定次數迴圈與中途返回"
      ],
      "metadata": {
        "id": "RGa00Dj5sHV-"
      },
      "execution_count": null,
      "outputs": []
    },
    {
      "cell_type": "code",
      "source": [
        "# P.57  開檔"
      ],
      "metadata": {
        "id": "je4jJmlXsKPi"
      },
      "execution_count": null,
      "outputs": []
    },
    {
      "cell_type": "code",
      "source": [
        "# P.58  隨機變數產生資料的方法"
      ],
      "metadata": {
        "id": "QFjxuDTpsMpn"
      },
      "execution_count": null,
      "outputs": []
    },
    {
      "cell_type": "code",
      "source": [
        "# P.59  固定次數迴圈"
      ],
      "metadata": {
        "id": "x6VkcsdpsOtY"
      },
      "execution_count": null,
      "outputs": []
    },
    {
      "cell_type": "code",
      "source": [
        "# P.60  固定次數迴圈"
      ],
      "metadata": {
        "id": "_CisHd2ysQ04"
      },
      "execution_count": null,
      "outputs": []
    },
    {
      "cell_type": "code",
      "source": [
        "# P.61  背下來"
      ],
      "metadata": {
        "id": "UVfA_KSTsSvz"
      },
      "execution_count": null,
      "outputs": []
    },
    {
      "cell_type": "code",
      "source": [
        "# P.62  隨機變數的使用"
      ],
      "metadata": {
        "id": "QnIVWTUmsUVJ"
      },
      "execution_count": null,
      "outputs": []
    },
    {
      "cell_type": "code",
      "source": [
        "# P.63  最麻煩的一題，背下來"
      ],
      "metadata": {
        "id": "Sb35gEScsWNN"
      },
      "execution_count": null,
      "outputs": []
    },
    {
      "cell_type": "code",
      "source": [
        "# P.64  程式註解的寫法"
      ],
      "metadata": {
        "id": "Q9X1P6insYWK"
      },
      "execution_count": null,
      "outputs": []
    },
    {
      "cell_type": "code",
      "source": [
        "# P.65 input 函式  註解怎麼用"
      ],
      "metadata": {
        "id": "krCzAaDjetbd"
      },
      "execution_count": null,
      "outputs": []
    },
    {
      "cell_type": "code",
      "source": [
        "# P.66  迴圈的條件與索引編號"
      ],
      "metadata": {
        "id": "YZWpT9ibscCE"
      },
      "execution_count": null,
      "outputs": []
    },
    {
      "cell_type": "code",
      "source": [
        "# P.67  函式參數的定義"
      ],
      "metadata": {
        "id": "7Uf31CCnsdf1"
      },
      "execution_count": null,
      "outputs": []
    },
    {
      "cell_type": "code",
      "source": [
        "# P.68  input 函式  註解怎麼用"
      ],
      "metadata": {
        "id": "vSMX9IJEsfEG"
      },
      "execution_count": null,
      "outputs": []
    },
    {
      "cell_type": "code",
      "source": [
        "# P.69  w+ 檔案可以不存在"
      ],
      "metadata": {
        "id": "lwhwihzfsjIQ"
      },
      "execution_count": null,
      "outputs": []
    },
    {
      "cell_type": "code",
      "source": [
        "# P.70  多重選擇的條件"
      ],
      "metadata": {
        "id": "4EgDuV-TskqQ"
      },
      "execution_count": null,
      "outputs": []
    },
    {
      "cell_type": "code",
      "source": [
        "# P.71  條件式迴圈   固定次數迴圈  的語法"
      ],
      "metadata": {
        "id": "tYMY0V_Ssml5"
      },
      "execution_count": null,
      "outputs": []
    },
    {
      "cell_type": "code",
      "source": [
        "# P.72  關係運算子"
      ],
      "metadata": {
        "id": "Y6EPF41asoRa"
      },
      "execution_count": null,
      "outputs": []
    },
    {
      "cell_type": "code",
      "source": [
        "# P.73 算數運算子\n",
        "\n",
        "x = \"oranges\"\n",
        "y= \"apples\"\n",
        "z= \"bananas\"\n",
        "data = \"{1} and {0} and {2}\"\n",
        "print(data.format(z, y, x))\n"
      ],
      "metadata": {
        "id": "jBdrkvQ0e8et"
      },
      "execution_count": null,
      "outputs": []
    },
    {
      "cell_type": "code",
      "source": [
        "# P.74  開檔案的模式與寫入資料的指令"
      ],
      "metadata": {
        "id": "sp42LL6jsqLj"
      },
      "execution_count": null,
      "outputs": []
    },
    {
      "cell_type": "code",
      "source": [
        "# P.75  if  else  雙重選擇與條件式"
      ],
      "metadata": {
        "id": "kD0Ns8Vsssfw"
      },
      "execution_count": null,
      "outputs": []
    },
    {
      "cell_type": "code",
      "source": [
        "# P.76 算數運算子的優先順序"
      ],
      "metadata": {
        "id": "Lh_fBQ8pfCpE"
      },
      "execution_count": null,
      "outputs": []
    }
  ]
}